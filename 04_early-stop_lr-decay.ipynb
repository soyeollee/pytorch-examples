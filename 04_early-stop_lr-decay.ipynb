{
 "cells": [
  {
   "cell_type": "markdown",
   "source": [
    "## 1. Early Stop + Learning Rate Decay + LR Visualization"
   ],
   "metadata": {
    "collapsed": false
   }
  },
  {
   "cell_type": "code",
   "execution_count": null,
   "outputs": [],
   "source": [
    "import os\n",
    "import torch\n",
    "from torch import nn\n",
    "from torchvision import datasets, transforms\n",
    "from matplotlib import pyplot as plt\n",
    "from PIL import Image"
   ],
   "metadata": {
    "collapsed": false
   }
  },
  {
   "cell_type": "code",
   "execution_count": 3,
   "outputs": [],
   "source": [
    "# Load MNIST dataset by mnist.npz\n",
    "import numpy as np\n",
    "# mnist = np.load('data/mnist.npz')  # [i for i in mnist.keys()]\n",
    "# print(\"mnist keys: \", [i for i in mnist.keys()])  # ['x_test', 'x_train', 'y_train', 'y_test']\n",
    "with np.load('data/mnist.npz') as data:\n",
    "    train_examples = data['x_train']  # shape = (60000, 28, 28)\n",
    "    train_labels = data['y_train']  # shape = (60000, )\n",
    "    test_examples = data['x_test']  # shape = (10000, 28, 28)\n",
    "    test_labels = data['y_test']  # shape = (10000, )"
   ],
   "metadata": {
    "collapsed": false
   }
  },
  {
   "cell_type": "code",
   "execution_count": 4,
   "outputs": [
    {
     "data": {
      "text/plain": "(array([38847859,   571880,   514157,   438029,   446644,   503214,\n          469607,   518723,   611860,  4118027]),\n array([  0. ,  25.5,  51. ,  76.5, 102. , 127.5, 153. , 178.5, 204. ,\n        229.5, 255. ]))"
     },
     "execution_count": 4,
     "metadata": {},
     "output_type": "execute_result"
    }
   ],
   "source": [
    "# 데이터셋이 0-1 사이의 값인지 / 0-255 사이의 값인지 확인\n",
    "np.histogram(train_examples)"
   ],
   "metadata": {
    "collapsed": false
   }
  },
  {
   "cell_type": "code",
   "execution_count": 5,
   "outputs": [
    {
     "name": "stdout",
     "output_type": "stream",
     "text": [
      "mean: 33.318421449829934, std: 78.56748998339798\n"
     ]
    }
   ],
   "source": [
    "# MNIST Normalization\n",
    "mnist_mean = train_examples.mean()\n",
    "mnist_std = train_examples.std()\n",
    "print(\"mean: {}, std: {}\".format(mnist_mean, mnist_std))"
   ],
   "metadata": {
    "collapsed": false
   }
  },
  {
   "cell_type": "code",
   "execution_count": 6,
   "outputs": [
    {
     "data": {
      "text/plain": "<Figure size 640x480 with 1 Axes>",
      "image/png": "[encoded data removed]"
     },
     "metadata": {},
     "output_type": "display_data"
    }
   ],
   "source": [
    "# Visualize MNIST sample\n",
    "plt.imshow(train_examples[0], cmap='gray')\n",
    "plt.title('label : %s' % train_labels[0])\n",
    "plt.show()"
   ],
   "metadata": {
    "collapsed": false
   }
  },
  {
   "cell_type": "code",
   "execution_count": 34,
   "outputs": [],
   "source": [
    "# Configs\n",
    "BATCH_SIZE = 32\n",
    "LEARNING_RATE = 0.0001\n",
    "DROPOUT_RATE = 0.2\n",
    "EPOCHS = 10\n",
    "PATIENCE = 1  # 몇번의 epoch동안 loss가 떨어지지 않으면 lr decay?"
   ],
   "metadata": {
    "collapsed": false
   }
  },
  {
   "cell_type": "code",
   "execution_count": 35,
   "outputs": [],
   "source": [
    "# Pytorch Dataset\n",
    "from torch.utils.data import Dataset\n",
    "\n",
    "\n",
    "class MnistDataset(Dataset):\n",
    "    def __init__(self, images, labels, transform=None, target_transform=None):\n",
    "        self.images = images\n",
    "        self.labels = labels\n",
    "        self.transform = transform\n",
    "        self.target_transform = target_transform\n",
    "\n",
    "    def __len__(self):\n",
    "        return len(self.images)\n",
    "\n",
    "    def __getitem__(self, idx):\n",
    "        image = self.images[idx]\n",
    "        image = Image.fromarray(image)\n",
    "\n",
    "        label = self.labels[idx]\n",
    "\n",
    "        if self.transform:\n",
    "            image = self.transform(image)\n",
    "        if self.target_transform:\n",
    "            label = self.target_transform(label)\n",
    "\n",
    "        return image, label"
   ],
   "metadata": {
    "collapsed": false
   }
  },
  {
   "cell_type": "code",
   "execution_count": 36,
   "outputs": [],
   "source": [
    "# Train MNIST dataset\n",
    "\n",
    "train_transform = transforms.Compose([\n",
    "    # transforms.RandomSizedCrop(224),\n",
    "    transforms.RandomHorizontalFlip(),\n",
    "    transforms.ToTensor(),\n",
    "    transforms.Normalize(mean=[mnist_mean], std=[mnist_std]),\n",
    "\n",
    "    # transforms.Normalize(mean=[0.485, 0.456, 0.406],\n",
    "    #                      std=[0.229, 0.224, 0.225])\n",
    "])\n",
    "test_transform = transforms.Compose([\n",
    "    transforms.ToTensor(),\n",
    "    transforms.Normalize(mean=[mnist_mean], std=[mnist_std]),\n",
    "    # transforms.Normalize(mean=[0.485, 0.456, 0.406],\n",
    "    #                      std=[0.229, 0.224, 0.225])\n",
    "])\n",
    "\n",
    "train_dataset = MnistDataset(train_examples, train_labels, transform=train_transform)\n",
    "test_dataset = MnistDataset(test_examples, test_labels, transform=test_transform)\n",
    "\n",
    "train_loader = torch.utils.data.DataLoader(dataset=train_dataset,\n",
    "                                           batch_size=BATCH_SIZE, shuffle=True, num_workers=2)\n",
    "test_loader = torch.utils.data.DataLoader(dataset=test_dataset,\n",
    "                                           batch_size=1, shuffle=False, num_workers=2)"
   ],
   "metadata": {
    "collapsed": false
   }
  },
  {
   "cell_type": "code",
   "execution_count": 37,
   "outputs": [],
   "source": [
    "class MnistClassifier(torch.nn.Module):\n",
    "    def __init__(self, input_size=(28, 28), num_classes=10, dropout_late=0.2):\n",
    "        super(MnistClassifier, self).__init__()\n",
    "        self.conv1 = nn.Conv2d(1, 32, 3, 1, padding='same')  # 28 28\n",
    "        self.bn1 = nn.BatchNorm2d(32)\n",
    "        self.maxpool2d = nn.MaxPool2d((2, 2))  #\n",
    "        self.conv2 = nn.Conv2d(32, 64, 3, 1, padding='same')\n",
    "        self.bn2 = nn.BatchNorm2d(64)\n",
    "        self.conv3 = nn.Conv2d(64, 64, 3, 1, padding='same')\n",
    "        self.bn3 = nn.BatchNorm2d(64)  # 원본: 128\n",
    "        self.fc1 = nn.Linear(7*7*64, 64)  # 원본: 7*7*128\n",
    "        self.fc2 = nn.Linear(64, num_classes)\n",
    "        self.dropout = nn.Dropout2d(dropout_late)\n",
    "        self.relu = nn.ReLU()\n",
    "\n",
    "    def forward(self, x):\n",
    "        x = self.maxpool2d(self.relu(self.bn1(self.conv1(x))))\n",
    "        x = self.relu(self.bn2(self.conv2(x)))\n",
    "        x = self.maxpool2d(self.relu(self.bn3(self.conv3(x))))\n",
    "        x = self.dropout(x)\n",
    "        x = torch.flatten(x, 1)\n",
    "        x = self.relu(self.fc1(x))\n",
    "        x = self.fc2(x)\n",
    "        x = torch.nn.functional.log_softmax(x, dim=1)\n",
    "        return x"
   ],
   "metadata": {
    "collapsed": false
   }
  },
  {
   "cell_type": "markdown",
   "source": [
    "# Learning Rate Decay + LR decay"
   ],
   "metadata": {
    "collapsed": false
   }
  },
  {
   "cell_type": "code",
   "execution_count": 40,
   "outputs": [],
   "source": [
    "model = MnistClassifier(dropout_late=DROPOUT_RATE)\n",
    "optimizer = torch.optim.Adam(model.parameters(), lr=LEARNING_RATE)\n",
    "criterion = nn.CrossEntropyLoss()\n",
    "# scheduler = torch.optim.lr_scheduler.StepLR(optimizer, step_size=10, gamma=0.1)\n",
    "scheduler = torch.optim.lr_scheduler.MultiStepLR(optimizer, milestones=[5, 8], gamma=0.1)"
   ],
   "metadata": {
    "collapsed": false
   }
  },
  {
   "cell_type": "code",
   "execution_count": 41,
   "outputs": [],
   "source": [
    "def get_lr(optimizer):\n",
    "    for param_group in optimizer.param_groups:\n",
    "        return param_group['lr']"
   ],
   "metadata": {
    "collapsed": false
   }
  },
  {
   "cell_type": "code",
   "execution_count": 42,
   "outputs": [
    {
     "name": "stdout",
     "output_type": "stream",
     "text": [
      "Epoch 0/10 || Train Loss : 0.694447\n",
      "Epoch 0/10 || Test Loss : 0.243341\n",
      "Test Accuracy : 0.925000\n",
      "Epoch 1/10 || Train Loss : 0.225049\n",
      "Epoch 1/10 || Test Loss : 0.163315\n",
      "Test Accuracy : 0.952000\n",
      "Epoch 2/10 || Train Loss : 0.161165\n",
      "Epoch 2/10 || Test Loss : 0.115740\n",
      "Test Accuracy : 0.964000\n",
      "Epoch 3/10 || Train Loss : 0.129196\n",
      "Epoch 3/10 || Test Loss : 0.102324\n",
      "Test Accuracy : 0.967800\n",
      "Epoch 4/10 || Train Loss : 0.113108\n",
      "Epoch 4/10 || Test Loss : 0.090323\n",
      "Test Accuracy : 0.971800\n",
      "Epoch 5/10 || Train Loss : 0.088132\n",
      "Epoch 5/10 || Test Loss : 0.071771\n",
      "Test Accuracy : 0.977200\n",
      "Epoch 6/10 || Train Loss : 0.084735\n"
     ]
    }
   ],
   "source": [
    "train_loss_list = []\n",
    "train_lr_list = []\n",
    "test_loss_list = []\n",
    "\n",
    "patience_check = 0\n",
    "best_loss = 10000\n",
    "\n",
    "for epoch in range(EPOCHS):\n",
    "    train_loss = 0.\n",
    "    test_loss = 0.\n",
    "    train_lr_list.append(get_lr(optimizer))\n",
    "    model.train()\n",
    "    for i, (image, label) in enumerate(train_loader):\n",
    "        optimizer.zero_grad()\n",
    "        pred = model(image)\n",
    "        loss = criterion(pred, label)\n",
    "        loss.backward()\n",
    "        optimizer.step()\n",
    "        train_loss += loss.item()\n",
    "    print(\"Epoch {}/{} || Train Loss : {:3f}\".format(epoch, EPOCHS, train_loss/len(train_loader)))\n",
    "    scheduler.step()\n",
    "    model.eval()\n",
    "\n",
    "    count = 0\n",
    "    for i, (image, label) in enumerate(test_loader):\n",
    "        pred = model(image)\n",
    "        loss = criterion(pred, label)\n",
    "        test_loss += loss.item()\n",
    "\n",
    "        if pred.argmax().item() == label.item():\n",
    "            count += 1\n",
    "\n",
    "    test_loss = test_loss/len(test_loader)\n",
    "\n",
    "    # Early Stop\n",
    "    if test_loss > best_loss:\n",
    "        patience_check += 1\n",
    "        if patience_check >= PATIENCE:\n",
    "            break\n",
    "    else:\n",
    "        best_loss = test_loss\n",
    "        patience_check = 0\n",
    "\n",
    "    print(\"Epoch {}/{} || Test Loss : {:3f}\".format(epoch, EPOCHS, test_loss))\n",
    "    print(\"Test Accuracy : {:3f}\".format(count / len(test_loader)))\n"
   ],
   "metadata": {
    "collapsed": false
   }
  },
  {
   "cell_type": "code",
   "execution_count": null,
   "outputs": [],
   "source": [
    "import matplotlib.pyplot as plt\n",
    "%matplotlib inline\n",
    "plt.plot(range(len(train_lr_list)), train_lr_list, color='blue')\n",
    "\n",
    "plt.ylabel('Learning rate')\n",
    "plt.xlabel('epoch');"
   ],
   "metadata": {
    "collapsed": false
   }
  }
 ],
 "metadata": {
  "kernelspec": {
   "display_name": "Python 3",
   "language": "python",
   "name": "python3"
  },
  "language_info": {
   "codemirror_mode": {
    "name": "ipython",
    "version": 2
   },
   "file_extension": ".py",
   "mimetype": "text/x-python",
   "name": "python",
   "nbconvert_exporter": "python",
   "pygments_lexer": "ipython2",
   "version": "2.7.6"
  }
 },
 "nbformat": 4,
 "nbformat_minor": 0
}
