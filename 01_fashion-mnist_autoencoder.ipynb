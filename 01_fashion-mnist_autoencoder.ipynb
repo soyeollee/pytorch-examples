{
 "cells": [
  {
   "cell_type": "code",
   "execution_count": 133,
   "metadata": {
    "collapsed": true
   },
   "outputs": [],
   "source": [
    "import os\n",
    "import torch\n",
    "from torch import nn\n",
    "from torchvision import datasets, transforms\n",
    "from matplotlib import pyplot as plt\n",
    "from PIL import Image"
   ]
  },
  {
   "cell_type": "code",
   "execution_count": 134,
   "outputs": [],
   "source": [
    "# Load MNIST dataset by torchvision.dataset\n",
    "# mnist_train = datasets.MNIST('data/', train=True, download=True)  # 60000\n",
    "# mnist_test = datasets.MNIST('data/', train=False, download=True)  # 10000"
   ],
   "metadata": {
    "collapsed": false
   }
  },
  {
   "cell_type": "code",
   "execution_count": 145,
   "outputs": [],
   "source": [
    "# Load MNIST dataset by mnist.npz\n",
    "import numpy as np\n",
    "# mnist = np.load('data/mnist.npz')  # [i for i in mnist.keys()]\n",
    "# print(\"mnist keys: \", [i for i in mnist.keys()])  # ['x_test', 'x_train', 'y_train', 'y_test']\n",
    "with np.load('data/fashion-mnist.npz') as data:\n",
    "    train_examples = data['x_train']/255.  # shape = (60000, 28, 28)\n",
    "    train_labels = data['y_train']  # shape = (60000, )\n",
    "    test_examples = data['x_test']/255.  # shape = (10000, 28, 28)\n",
    "    test_labels = data['y_test']  # shape = (10000, )"
   ],
   "metadata": {
    "collapsed": false
   }
  },
  {
   "cell_type": "code",
   "execution_count": 146,
   "outputs": [],
   "source": [
    "# 데이터셋을 Normal(0-7) / Abnormal(8-9) 로 새로 구성\n",
    "train_normal_index = (train_labels<=8)\n",
    "train_abnormal_index = (train_labels>=9)\n",
    "\n",
    "test_normal_index = (test_labels<=8)\n",
    "test_abnormal_index = (test_labels>=9)"
   ],
   "metadata": {
    "collapsed": false
   }
  },
  {
   "cell_type": "code",
   "execution_count": 147,
   "outputs": [
    {
     "data": {
      "text/plain": "(array([25790964,  1344502,  1582733,  1643562,  1876736,  2131629,\n         2510093,  3303752,  4306392,  2549637]),\n array([0. , 0.1, 0.2, 0.3, 0.4, 0.5, 0.6, 0.7, 0.8, 0.9, 1. ]))"
     },
     "execution_count": 147,
     "metadata": {},
     "output_type": "execute_result"
    }
   ],
   "source": [
    "# 데이터셋이 0-1 사이의 값인지 / 0-255 사이의 값인지 확인\n",
    "np.histogram(train_examples)"
   ],
   "metadata": {
    "collapsed": false
   }
  },
  {
   "cell_type": "code",
   "execution_count": 148,
   "outputs": [
    {
     "name": "stdout",
     "output_type": "stream",
     "text": [
      "mean: 0.2860405969887955, std: 0.35302424451492237\n"
     ]
    }
   ],
   "source": [
    "# MNIST Normalization\n",
    "mnist_mean = train_examples.mean()\n",
    "mnist_std = train_examples.std()\n",
    "print(\"mean: {}, std: {}\".format(mnist_mean, mnist_std))"
   ],
   "metadata": {
    "collapsed": false
   }
  },
  {
   "cell_type": "code",
   "execution_count": 149,
   "outputs": [
    {
     "data": {
      "text/plain": "<Figure size 640x480 with 1 Axes>",
      "image/png": "[encoded data removed]"
     },
     "metadata": {},
     "output_type": "display_data"
    }
   ],
   "source": [
    "# Visualize MNIST sample\n",
    "plt.imshow(train_examples[0], cmap='gray')\n",
    "plt.title('label : %s' % train_labels[0])\n",
    "plt.show()"
   ],
   "metadata": {
    "collapsed": false
   }
  },
  {
   "cell_type": "code",
   "execution_count": 150,
   "outputs": [],
   "source": [
    "# Configs\n",
    "BATCH_SIZE = 32\n",
    "LEARNING_RATE = 0.01\n",
    "DROPOUT_RATE = 0.2\n",
    "EPOCHS = 5\n",
    "LATENT_DIM = 32"
   ],
   "metadata": {
    "collapsed": false
   }
  },
  {
   "cell_type": "code",
   "execution_count": 151,
   "outputs": [],
   "source": [
    "# Pytorch Dataset\n",
    "from torch.utils.data import Dataset\n",
    "\n",
    "class FashionMnistDataset(Dataset):\n",
    "    def __init__(self, images, labels, transform=None, target_transform=None):\n",
    "        self.images = images\n",
    "        self.labels = labels\n",
    "        self.transform = transform\n",
    "        self.target_transform = target_transform\n",
    "\n",
    "    def __len__(self):\n",
    "        return len(self.images)\n",
    "\n",
    "    def __getitem__(self, idx):\n",
    "        image = self.images[idx]\n",
    "        image = Image.fromarray(image)\n",
    "\n",
    "        label = self.labels[idx]\n",
    "\n",
    "        if self.transform:\n",
    "            image = self.transform(image)\n",
    "        if self.target_transform:\n",
    "            label = self.target_transform(label)\n",
    "\n",
    "        return image, label"
   ],
   "metadata": {
    "collapsed": false
   }
  },
  {
   "cell_type": "code",
   "execution_count": 152,
   "outputs": [],
   "source": [
    "num_train_normal = train_normal_index.sum()\n",
    "num_train_abnormal = train_abnormal_index.sum()\n",
    "num_test_normal = test_normal_index.sum()\n",
    "num_test_abnormal = test_abnormal_index.sum()\n",
    "\n",
    "train_normal = train_examples[train_normal_index] # shape = [60000, 28, 28]\n",
    "train_abnormal = train_examples[train_abnormal_index]\n",
    "test_normal = test_examples[test_normal_index]\n",
    "test_abnormal = test_examples[test_abnormal_index]"
   ],
   "metadata": {
    "collapsed": false
   }
  },
  {
   "cell_type": "code",
   "execution_count": 153,
   "outputs": [
    {
     "name": "stdout",
     "output_type": "stream",
     "text": [
      "6000\n",
      "54000\n"
     ]
    }
   ],
   "source": [
    "print(num_train_abnormal)\n",
    "print(num_train_normal)"
   ],
   "metadata": {
    "collapsed": false
   }
  },
  {
   "cell_type": "code",
   "execution_count": 154,
   "outputs": [],
   "source": [
    "# Train MNIST dataset\n",
    "\n",
    "train_transform = transforms.Compose([\n",
    "    # transforms.RandomSizedCrop(224),\n",
    "    # transforms.RandomHorizontalFlip(),\n",
    "    transforms.ToTensor(),\n",
    "    # transforms.Normalize(mean=[mnist_mean], std=[mnist_std]),\n",
    "\n",
    "    # transforms.Normalize(mean=[0.485, 0.456, 0.406],\n",
    "    #                      std=[0.229, 0.224, 0.225])\n",
    "])\n",
    "test_transform = transforms.Compose([\n",
    "    transforms.ToTensor(),\n",
    "    # transforms.Normalize(mean=[mnist_mean], std=[mnist_std]),\n",
    "    # transforms.Normalize(mean=[0.485, 0.456, 0.406],\n",
    "    #                      std=[0.229, 0.224, 0.225])\n",
    "])\n",
    "\n",
    "\n",
    "train_normal_dataset = FashionMnistDataset(train_normal, np.ones(num_train_normal), transform=train_transform)\n",
    "test_normal_dataset = FashionMnistDataset(test_normal, np.ones(num_test_normal), transform=test_transform)\n",
    "\n",
    "train_abnormal_dataset = FashionMnistDataset(train_abnormal, np.zeros(num_train_abnormal), transform=train_transform)\n",
    "test_abnormal_dataset = FashionMnistDataset(test_abnormal, np.zeros(num_test_abnormal), transform=test_transform)\n",
    "\n",
    "\n",
    "\n",
    "train_normal_loader = torch.utils.data.DataLoader(dataset=train_normal_dataset,\n",
    "                                                  batch_size=BATCH_SIZE, shuffle=True, num_workers=2)\n",
    "test_normal_loader = torch.utils.data.DataLoader(dataset=test_normal_dataset,\n",
    "                                                 batch_size=1, shuffle=False, num_workers=2)\n",
    "train_abnormal_loader = torch.utils.data.DataLoader(dataset=train_abnormal_dataset,\n",
    "                                                  batch_size=BATCH_SIZE, shuffle=True, num_workers=2)\n",
    "test_abnormal_loader = torch.utils.data.DataLoader(dataset=test_abnormal_dataset,\n",
    "                                                 batch_size=1, shuffle=False, num_workers=2)"
   ],
   "metadata": {
    "collapsed": false
   }
  },
  {
   "cell_type": "code",
   "execution_count": 155,
   "outputs": [],
   "source": [
    "class FashionMnistAutoEncoder(torch.nn.Module):\n",
    "    def __init__(self, input_size=(28, 28), num_classes=10, dropout_late=0.2):\n",
    "        super(FashionMnistAutoEncoder, self).__init__()\n",
    "        self.encoder = nn.Sequential(\n",
    "            nn.Linear(28*28, 128),\n",
    "            nn.BatchNorm1d(128),\n",
    "            nn.ReLU(),\n",
    "            nn.Linear(128, 64),\n",
    "            nn.BatchNorm1d(64),\n",
    "            nn.ReLU(),\n",
    "            nn.Linear(64, 32),\n",
    "        )\n",
    "        self.decoder = nn.Sequential(\n",
    "            nn.Linear(32, 64),\n",
    "            nn.BatchNorm1d(64),\n",
    "            nn.ReLU(),\n",
    "            nn.Linear(64, 128),\n",
    "            nn.BatchNorm1d(128),\n",
    "            nn.ReLU(),\n",
    "            nn.Linear(128, 28*28),\n",
    "            nn.BatchNorm1d(28*28),\n",
    "            nn.Sigmoid()\n",
    "        )\n",
    "\n",
    "    def forward(self, x):\n",
    "        x = self.encoder(x)\n",
    "        x = self.decoder(x)\n",
    "        return x"
   ],
   "metadata": {
    "collapsed": false
   }
  },
  {
   "cell_type": "code",
   "execution_count": 156,
   "outputs": [],
   "source": [
    "model = FashionMnistAutoEncoder(dropout_late=DROPOUT_RATE)\n",
    "optimizer = torch.optim.Adam(model.parameters(), lr=LEARNING_RATE)\n",
    "criterion = nn.MSELoss()"
   ],
   "metadata": {
    "collapsed": false
   }
  },
  {
   "cell_type": "code",
   "execution_count": 157,
   "outputs": [
    {
     "data": {
      "text/plain": "FashionMnistAutoEncoder(\n  (encoder): Sequential(\n    (0): Linear(in_features=784, out_features=128, bias=True)\n    (1): BatchNorm1d(128, eps=1e-05, momentum=0.1, affine=True, track_running_stats=True)\n    (2): ReLU()\n    (3): Linear(in_features=128, out_features=64, bias=True)\n    (4): BatchNorm1d(64, eps=1e-05, momentum=0.1, affine=True, track_running_stats=True)\n    (5): ReLU()\n    (6): Linear(in_features=64, out_features=32, bias=True)\n  )\n  (decoder): Sequential(\n    (0): Linear(in_features=32, out_features=64, bias=True)\n    (1): BatchNorm1d(64, eps=1e-05, momentum=0.1, affine=True, track_running_stats=True)\n    (2): ReLU()\n    (3): Linear(in_features=64, out_features=128, bias=True)\n    (4): BatchNorm1d(128, eps=1e-05, momentum=0.1, affine=True, track_running_stats=True)\n    (5): ReLU()\n    (6): Linear(in_features=128, out_features=784, bias=True)\n    (7): BatchNorm1d(784, eps=1e-05, momentum=0.1, affine=True, track_running_stats=True)\n    (8): Sigmoid()\n  )\n)"
     },
     "execution_count": 157,
     "metadata": {},
     "output_type": "execute_result"
    }
   ],
   "source": [
    "model.train()"
   ],
   "metadata": {
    "collapsed": false
   }
  },
  {
   "cell_type": "code",
   "execution_count": 158,
   "outputs": [
    {
     "name": "stdout",
     "output_type": "stream",
     "text": [
      "Epoch 0/5 || Train Step : 0 || Loss : 0.206652\n",
      "Epoch 0/5 || Train Step : 1000 || Loss : 0.020538\n",
      "Epoch 1/5 || Train Step : 0 || Loss : 0.026026\n",
      "Epoch 1/5 || Train Step : 1000 || Loss : 0.023118\n",
      "Epoch 2/5 || Train Step : 0 || Loss : 0.020257\n",
      "Epoch 2/5 || Train Step : 1000 || Loss : 0.019646\n",
      "Epoch 3/5 || Train Step : 0 || Loss : 0.015778\n",
      "Epoch 3/5 || Train Step : 1000 || Loss : 0.016167\n",
      "Epoch 4/5 || Train Step : 0 || Loss : 0.012618\n",
      "Epoch 4/5 || Train Step : 1000 || Loss : 0.017264\n"
     ]
    }
   ],
   "source": [
    "for epoch in range(EPOCHS):\n",
    "    model.train()\n",
    "    for i, (image, _) in enumerate(train_normal_loader):\n",
    "        x = image.view(-1, 28*28)\n",
    "        x = x  # /255.\n",
    "\n",
    "        optimizer.zero_grad()\n",
    "        pred = model(x)\n",
    "\n",
    "        loss = criterion(pred, x)\n",
    "        loss.backward()\n",
    "        optimizer.step()\n",
    "        if i % 1000 == 0:\n",
    "            print(\"Epoch {}/{} || Train Step : {} || Loss : {:3f}\".format(epoch, EPOCHS, i, loss.item()))"
   ],
   "metadata": {
    "collapsed": false
   }
  },
  {
   "cell_type": "code",
   "execution_count": 159,
   "outputs": [],
   "source": [
    "# Get Threshold\n",
    "train_normal_loss = []\n",
    "train_abnormal_loss = []\n",
    "\n",
    "model.eval()\n",
    "\n",
    "for i, (image, _) in enumerate(train_normal_loader):\n",
    "    if i == len(train_normal_loader):\n",
    "        break\n",
    "    x = image.view(-1, 28*28) # / 255.\n",
    "    pred = model(x)\n",
    "\n",
    "    loss = criterion(pred, x)\n",
    "    train_normal_loss.append(loss.item())\n",
    "\n",
    "for i, (image, _) in enumerate(train_abnormal_loader):\n",
    "    x = image.view(-1, 28*28) # / 255.\n",
    "    pred = model(x)\n",
    "\n",
    "    loss = criterion(pred, x)\n",
    "    train_abnormal_loss.append(loss.item())"
   ],
   "metadata": {
    "collapsed": false
   }
  },
  {
   "cell_type": "code",
   "execution_count": 161,
   "outputs": [
    {
     "data": {
      "text/plain": "<Figure size 640x480 with 1 Axes>",
      "image/png": "[encoded data removed]"
     },
     "metadata": {},
     "output_type": "display_data"
    }
   ],
   "source": [
    "# 임계값 찾기\n",
    "plt.figure()\n",
    "plt.hist(train_normal_loss, bins=20, color='b', histtype='step')\n",
    "plt.hist(train_abnormal_loss, bins=20, color='r', histtype='step')\n",
    "plt.show()\n",
    "threshold = 0.018"
   ],
   "metadata": {
    "collapsed": false
   }
  },
  {
   "cell_type": "code",
   "execution_count": 163,
   "outputs": [],
   "source": [
    "# Normal = 1 / Abnormal = 0\n",
    "test_preds = []\n",
    "test_labels = []\n",
    "\n",
    "test_normal_loss = []\n",
    "test_abnormal_loss = []\n",
    "\n",
    "model.eval()\n",
    "\n",
    "for i, (image, label) in enumerate(test_normal_loader):\n",
    "\n",
    "    x = image.view(-1, 28*28)\n",
    "    pred = model(x)\n",
    "\n",
    "    loss = criterion(pred, x)\n",
    "    test_preds.append(loss.item())\n",
    "    test_labels.append(label.item())\n",
    "    test_normal_loss.append(loss.item())\n",
    "\n",
    "for i, (image, label) in enumerate(test_abnormal_loader):\n",
    "\n",
    "    x = image.view(-1, 28*28)\n",
    "    pred = model(x)\n",
    "\n",
    "    loss = criterion(pred, x)\n",
    "    test_preds.append(loss.item())\n",
    "    test_labels.append(label.item())\n",
    "    test_abnormal_loss.append(loss.item())\n"
   ],
   "metadata": {
    "collapsed": false
   }
  },
  {
   "cell_type": "code",
   "execution_count": 164,
   "outputs": [
    {
     "data": {
      "text/plain": "<Figure size 640x480 with 1 Axes>",
      "image/png": "[encoded data removed]"
     },
     "metadata": {},
     "output_type": "display_data"
    }
   ],
   "source": [
    "# 임계값 찾기\n",
    "plt.figure()\n",
    "plt.hist(test_normal_loss, bins=20, color='b', histtype='step')\n",
    "plt.hist(test_abnormal_loss, bins=20, color='r', histtype='step')\n",
    "plt.show()\n",
    "# threshold = 2.7 * 1e-6"
   ],
   "metadata": {
    "collapsed": false
   }
  },
  {
   "cell_type": "code",
   "execution_count": 165,
   "outputs": [],
   "source": [
    "preds = np.array(test_preds) < threshold\n",
    "preds = preds.astype(int)\n",
    "labels = np.array(test_labels).astype(int)"
   ],
   "metadata": {
    "collapsed": false
   }
  },
  {
   "cell_type": "code",
   "execution_count": 166,
   "outputs": [],
   "source": [
    "from sklearn.metrics import confusion_matrix\n",
    "cm = confusion_matrix(labels, preds)\n",
    "\n",
    "TP = cm[0][0]\n",
    "FN = cm[0][1]\n",
    "FP = cm[1][0]\n",
    "TN = cm[1][1]\n",
    "\n",
    "accuracy = (TP+TN)/(TP+FN+FP+TN)\n",
    "precision = TP/(TP+FP)\n",
    "recall = TP/(TP+FN)"
   ],
   "metadata": {
    "collapsed": false
   }
  },
  {
   "cell_type": "code",
   "execution_count": 167,
   "outputs": [
    {
     "name": "stdout",
     "output_type": "stream",
     "text": [
      "Accuracy 0.7586\n",
      "Precision 0.2214342001576044\n",
      "Recall 0.562\n"
     ]
    }
   ],
   "source": [
    "print('Accuracy', accuracy)\n",
    "print('Precision', precision)\n",
    "print('Recall', recall)"
   ],
   "metadata": {
    "collapsed": false
   }
  },
  {
   "cell_type": "code",
   "execution_count": null,
   "outputs": [],
   "source": [],
   "metadata": {
    "collapsed": false
   }
  }
 ],
 "metadata": {
  "kernelspec": {
   "display_name": "Python 3",
   "language": "python",
   "name": "python3"
  },
  "language_info": {
   "codemirror_mode": {
    "name": "ipython",
    "version": 2
   },
   "file_extension": ".py",
   "mimetype": "text/x-python",
   "name": "python",
   "nbconvert_exporter": "python",
   "pygments_lexer": "ipython2",
   "version": "2.7.6"
  }
 },
 "nbformat": 4,
 "nbformat_minor": 0
}
